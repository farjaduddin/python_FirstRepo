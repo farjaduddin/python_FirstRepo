{
 "cells": [
  {
   "cell_type": "markdown",
   "metadata": {},
   "source": [
    "notes:\n",
    "videos will be uploaded to slack by ma'am Ramsha.\n",
    "git: 1) version control system\n",
    "     2) project is saved on git so you dont worry about losting your work\n",
    "download: from gitforwindows.org     \n",
    "git.config--global user\n",
    "name \"farjad994\"\n",
    "to check user name and details\n",
    "git ...\n",
    "commit:\n",
    "git commit -m \"type a message here\"\n",
    "\n"
   ]
  },
  {
   "cell_type": "code",
   "execution_count": null,
   "metadata": {},
   "outputs": [],
   "source": []
  }
 ],
 "metadata": {
  "kernelspec": {
   "display_name": "Python 3",
   "language": "python",
   "name": "python3"
  },
  "language_info": {
   "codemirror_mode": {
    "name": "ipython",
    "version": 3
   },
   "file_extension": ".py",
   "mimetype": "text/x-python",
   "name": "python",
   "nbconvert_exporter": "python",
   "pygments_lexer": "ipython3",
   "version": "3.7.3"
  }
 },
 "nbformat": 4,
 "nbformat_minor": 2
}
